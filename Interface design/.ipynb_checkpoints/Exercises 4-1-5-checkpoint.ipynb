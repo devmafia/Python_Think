{
 "cells": [
  {
   "cell_type": "code",
   "execution_count": 1,
   "metadata": {},
   "outputs": [],
   "source": [
    "import turtle\n",
    "import math "
   ]
  },
  {
   "cell_type": "code",
   "execution_count": 2,
   "metadata": {},
   "outputs": [],
   "source": [
    "bob = turtle.Turtle()"
   ]
  },
  {
   "cell_type": "code",
   "execution_count": 3,
   "metadata": {},
   "outputs": [],
   "source": [
    "def polygon(t, n, length):\n",
    "    for i in range(n):\n",
    "        t.fd(length) \n",
    "        t.lt(90)\n",
    "        for i in range(n):\n",
    "            t.fd(length) \n",
    "            t.lt(90)"
   ]
  },
  {
   "cell_type": "code",
   "execution_count": 4,
   "metadata": {},
   "outputs": [],
   "source": [
    "#polygon(bob, 7, 50)"
   ]
  },
  {
   "cell_type": "code",
   "execution_count": 5,
   "metadata": {},
   "outputs": [],
   "source": [
    "def pie(t, n_1, n_2, angle, length):\n",
    "    n_pieces = n_1 \n",
    "    central_angle = 360 / n_pieces \n",
    "    back_angle = central_angle / 2\n",
    "    for i in range(n_pieces):\n",
    "        t.fd(length) \n",
    "        t.lt(central_angle)\n",
    "        t.fd(length) \n",
    "        t.lt(central_angle)\n",
    "        #t.fd(length)\n",
    "        #t.lt(180)"
   ]
  },
  {
   "cell_type": "code",
   "execution_count": 6,
   "metadata": {},
   "outputs": [],
   "source": [
    "pie(bob, 5, 5, 180, 100)"
   ]
  },
  {
   "cell_type": "code",
   "execution_count": null,
   "metadata": {},
   "outputs": [],
   "source": []
  }
 ],
 "metadata": {
  "kernelspec": {
   "display_name": "Python 3",
   "language": "python",
   "name": "python3"
  },
  "language_info": {
   "codemirror_mode": {
    "name": "ipython",
    "version": 3
   },
   "file_extension": ".py",
   "mimetype": "text/x-python",
   "name": "python",
   "nbconvert_exporter": "python",
   "pygments_lexer": "ipython3",
   "version": "3.6.5"
  }
 },
 "nbformat": 4,
 "nbformat_minor": 2
}
